{
  "nbformat": 4,
  "nbformat_minor": 0,
  "metadata": {
    "colab": {
      "name": "CNN 얼굴형 분류",
      "provenance": [],
      "collapsed_sections": []
    },
    "kernelspec": {
      "name": "python3",
      "display_name": "Python 3"
    },
    "accelerator": "GPU"
  },
  "cells": [
    {
      "cell_type": "code",
      "metadata": {
        "colab": {
          "base_uri": "https://localhost:8080/"
        },
        "id": "YkWOdsp3j_TY",
        "outputId": "465e3759-97d6-4537-aa5d-0d888eb5ae93"
      },
      "source": [
        "from PIL import Image\n",
        "import os, glob\n",
        "import numpy as np\n",
        "from sklearn.model_selection import train_test_split\n",
        "\n",
        "from keras.models import Sequential\n",
        "from keras.layers import MaxPooling2D\n",
        "from keras.layers import Conv2D\n",
        "from keras.layers import Activation, Dropout, Flatten, Dense\n",
        "import numpy as np\n",
        "import os\n",
        "\n",
        "np_load_old = np.load\n",
        "np.load = lambda *a,**k: np_load_old(*a, allow_pickle=True, **k)\n",
        "\n",
        "# 카테고리 지정하기\n",
        "categories = [\"계란형\",\"긴형\",\"네모형\",\"역삼각형\"]\n",
        "nb_classes = len(categories)\n",
        "# 이미지 크기 지정하기\n",
        "image_w = 64\n",
        "image_h = 64\n",
        "# 데이터 열기 \n",
        "X_train, X_test, y_train, y_test = np.load(\"./image/7obj.npy\")\n",
        "# 데이터 정규화하기(0~1사이로)\n",
        "X_train = X_train.astype(\"float\") / 256\n",
        "X_test  = X_test.astype(\"float\")  / 256\n",
        "print('X_train shape:', X_train.shape)\n",
        "\n",
        "# 모델 구조 정의 \n",
        "model = Sequential()\n",
        "model.add(Conv2D(32, (3, 3), input_shape=X_train.shape[1:], padding='same'))\n",
        "model.add(Activation('relu'))\n",
        "model.add(MaxPooling2D(pool_size=(2, 2)))\n",
        "model.add(Dropout(0.25))\n",
        "\n",
        "model.add(Conv2D(64, (3, 3), padding='same'))\n",
        "model.add(Activation('relu'))\n",
        "\n",
        "model.add(Conv2D(64, (3, 3)))\n",
        "model.add(MaxPooling2D(pool_size=(2, 2)))\n",
        "model.add(Dropout(0.25))\n",
        "\n",
        "# 전결합층\n",
        "model.add(Flatten())    # 벡터형태로 reshape\n",
        "model.add(Dense(512))   # 출력\n",
        "model.add(Activation('relu'))\n",
        "model.add(Dropout(0.5))\n",
        "\n",
        "model.add(Dense(nb_classes))\n",
        "model.add(Activation('softmax'))\n",
        "# 모델 구축하기\n",
        "model.compile(loss='categorical_crossentropy',   # 최적화 함수 지정\n",
        "    optimizer='rmsprop',\n",
        "    metrics=['accuracy'])\n",
        "# 모델 확인\n",
        "#print(model.summary())\n",
        "\n",
        "# 학습 완료된 모델 저장\n",
        "hdf5_file = \"./image/7obj-model.hdf5\"\n",
        "if os.path.exists(hdf5_file):\n",
        "    # 기존에 학습된 모델 불러들이기\n",
        "    model.load_weights(hdf5_file)\n",
        "else:\n",
        "    # 학습한 모델이 없으면 파일로 저장\n",
        "    model.fit(X_train, y_train, batch_size=32, epochs=20)\n",
        "    model.save_weights(hdf5_file)"
      ],
      "execution_count": 2,
      "outputs": [
        {
          "output_type": "stream",
          "text": [
            "X_train shape: (2472, 64, 64, 3)\n"
          ],
          "name": "stdout"
        }
      ]
    },
    {
      "cell_type": "code",
      "metadata": {
        "id": "_wpzLMJlm9ae"
      },
      "source": [
        "! rm -f -r image/images/.ipynb_checkpoints"
      ],
      "execution_count": 43,
      "outputs": []
    },
    {
      "cell_type": "code",
      "metadata": {
        "colab": {
          "base_uri": "https://localhost:8080/"
        },
        "id": "tYMUY_Fcx01w",
        "outputId": "c5c5ed1a-2f10-42dd-83d2-0796fb41723b"
      },
      "source": [
        "# 적용해볼 이미지 \n",
        "fname = './image/images'\n",
        "\n",
        "files = os.listdir(fname)\n",
        "\n",
        "for f in files:\n",
        "  test_image = './image/images/' + f\n",
        "\n",
        "# 이미지 resize\n",
        "img = Image.open(test_image)\n",
        "img = img.convert(\"RGB\")\n",
        "img = img.resize((64,64))\n",
        "data = np.asarray(img)\n",
        "X = np.array(data)\n",
        "X = X.astype(\"float\") / 256\n",
        "X = X.reshape(-1, 64, 64,3)\n",
        "# 예측\n",
        "pred = model.predict(X)  \n",
        "result = [np.argmax(value) for value in pred]   # 예측 값중 가장 높은 클래스 반환\n",
        "print('얼굴형 : ',categories[result[0]])"
      ],
      "execution_count": 44,
      "outputs": [
        {
          "output_type": "stream",
          "text": [
            "얼굴형 :  네모형\n"
          ],
          "name": "stdout"
        }
      ]
    },
    {
      "cell_type": "code",
      "metadata": {
        "colab": {
          "base_uri": "https://localhost:8080/"
        },
        "id": "Kd6rVDwehC3I",
        "outputId": "b84d9aeb-ef02-4f1f-cc30-cd7371f0af5d"
      },
      "source": [
        "%cd image/female/"
      ],
      "execution_count": null,
      "outputs": [
        {
          "output_type": "stream",
          "text": [
            "/content/image/female\n"
          ],
          "name": "stdout"
        }
      ]
    },
    {
      "cell_type": "code",
      "metadata": {
        "id": "EDxYSF94hK2_"
      },
      "source": [
        "!rm *"
      ],
      "execution_count": null,
      "outputs": []
    },
    {
      "cell_type": "code",
      "metadata": {
        "colab": {
          "base_uri": "https://localhost:8080/"
        },
        "id": "5ReB1f-Mj2q3",
        "outputId": "6d7b8ac6-2a69-4aed-f08c-356f5ddff652"
      },
      "source": [
        "%cd .."
      ],
      "execution_count": null,
      "outputs": [
        {
          "output_type": "stream",
          "text": [
            "/content\n"
          ],
          "name": "stdout"
        }
      ]
    },
    {
      "cell_type": "code",
      "metadata": {
        "id": "aMLhUX6pBUKk"
      },
      "source": [
        "%cp drive/MyDrive/7obj-model.hdf5 image/\n",
        "%cp drive/MyDrive/7obj.npy image/"
      ],
      "execution_count": 1,
      "outputs": []
    }
  ]
}